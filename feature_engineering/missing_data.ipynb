{
 "cells": [
  {
   "metadata": {},
   "cell_type": "markdown",
   "source": [
    "# This is a sample Jupyter Notebook\n",
    "\n",
    "Below is an example of a code cell. \n",
    "Put your cursor into the cell and press Shift+Enter to execute it and select the next one, or click 'Run Cell' button.\n",
    "\n",
    "Press Double Shift to search everywhere for classes, files, tool windows, actions, and settings.\n",
    "\n",
    "To learn more about Jupyter Notebooks in PyCharm, see [help](https://www.jetbrains.com/help/pycharm/ipython-notebook-support.html).\n",
    "For an overview of PyCharm, go to Help -> Learn IDE features or refer to [our documentation](https://www.jetbrains.com/help/pycharm/getting-started.html)."
   ],
   "id": "8a77807f92f26ee"
  },
  {
   "metadata": {
    "ExecuteTime": {
     "end_time": "2025-09-13T17:03:43.055442Z",
     "start_time": "2025-09-13T17:03:41.356992Z"
    }
   },
   "cell_type": "code",
   "source": [
    "import numpy as np\n",
    "import pandas as pd\n",
    "import matplotlib.pyplot as plt\n",
    "import seaborn as sns"
   ],
   "id": "fbc121e30a2defb3",
   "outputs": [],
   "execution_count": 6
  },
  {
   "metadata": {
    "ExecuteTime": {
     "end_time": "2025-09-13T17:03:44.456404Z",
     "start_time": "2025-09-13T17:03:44.411528Z"
    }
   },
   "cell_type": "code",
   "source": "df = pd.read_csv(\"../data/Ames_outliers_removed.csv\")",
   "id": "40a34deea2cb1917",
   "outputs": [],
   "execution_count": 7
  },
  {
   "metadata": {
    "ExecuteTime": {
     "end_time": "2025-09-13T17:03:52.845250Z",
     "start_time": "2025-09-13T17:03:52.831987Z"
    }
   },
   "cell_type": "code",
   "source": "df.head()",
   "id": "3fa444e38209d9be",
   "outputs": [
    {
     "data": {
      "text/plain": [
       "         PID  MS SubClass MS Zoning  Lot Frontage  Lot Area Street Alley  \\\n",
       "0  526301100           20        RL         141.0     31770   Pave   NaN   \n",
       "1  526350040           20        RH          80.0     11622   Pave   NaN   \n",
       "2  526351010           20        RL          81.0     14267   Pave   NaN   \n",
       "3  526353030           20        RL          93.0     11160   Pave   NaN   \n",
       "4  527105010           60        RL          74.0     13830   Pave   NaN   \n",
       "\n",
       "  Lot Shape Land Contour Utilities  ... Pool Area Pool QC  Fence Misc Feature  \\\n",
       "0       IR1          Lvl    AllPub  ...         0     NaN    NaN          NaN   \n",
       "1       Reg          Lvl    AllPub  ...         0     NaN  MnPrv          NaN   \n",
       "2       IR1          Lvl    AllPub  ...         0     NaN    NaN         Gar2   \n",
       "3       Reg          Lvl    AllPub  ...         0     NaN    NaN          NaN   \n",
       "4       IR1          Lvl    AllPub  ...         0     NaN  MnPrv          NaN   \n",
       "\n",
       "  Misc Val Mo Sold Yr Sold  Sale Type  Sale Condition  SalePrice  \n",
       "0        0       5    2010        WD           Normal     215000  \n",
       "1        0       6    2010        WD           Normal     105000  \n",
       "2    12500       6    2010        WD           Normal     172000  \n",
       "3        0       4    2010        WD           Normal     244000  \n",
       "4        0       3    2010        WD           Normal     189900  \n",
       "\n",
       "[5 rows x 81 columns]"
      ],
      "text/html": [
       "<div>\n",
       "<style scoped>\n",
       "    .dataframe tbody tr th:only-of-type {\n",
       "        vertical-align: middle;\n",
       "    }\n",
       "\n",
       "    .dataframe tbody tr th {\n",
       "        vertical-align: top;\n",
       "    }\n",
       "\n",
       "    .dataframe thead th {\n",
       "        text-align: right;\n",
       "    }\n",
       "</style>\n",
       "<table border=\"1\" class=\"dataframe\">\n",
       "  <thead>\n",
       "    <tr style=\"text-align: right;\">\n",
       "      <th></th>\n",
       "      <th>PID</th>\n",
       "      <th>MS SubClass</th>\n",
       "      <th>MS Zoning</th>\n",
       "      <th>Lot Frontage</th>\n",
       "      <th>Lot Area</th>\n",
       "      <th>Street</th>\n",
       "      <th>Alley</th>\n",
       "      <th>Lot Shape</th>\n",
       "      <th>Land Contour</th>\n",
       "      <th>Utilities</th>\n",
       "      <th>...</th>\n",
       "      <th>Pool Area</th>\n",
       "      <th>Pool QC</th>\n",
       "      <th>Fence</th>\n",
       "      <th>Misc Feature</th>\n",
       "      <th>Misc Val</th>\n",
       "      <th>Mo Sold</th>\n",
       "      <th>Yr Sold</th>\n",
       "      <th>Sale Type</th>\n",
       "      <th>Sale Condition</th>\n",
       "      <th>SalePrice</th>\n",
       "    </tr>\n",
       "  </thead>\n",
       "  <tbody>\n",
       "    <tr>\n",
       "      <th>0</th>\n",
       "      <td>526301100</td>\n",
       "      <td>20</td>\n",
       "      <td>RL</td>\n",
       "      <td>141.0</td>\n",
       "      <td>31770</td>\n",
       "      <td>Pave</td>\n",
       "      <td>NaN</td>\n",
       "      <td>IR1</td>\n",
       "      <td>Lvl</td>\n",
       "      <td>AllPub</td>\n",
       "      <td>...</td>\n",
       "      <td>0</td>\n",
       "      <td>NaN</td>\n",
       "      <td>NaN</td>\n",
       "      <td>NaN</td>\n",
       "      <td>0</td>\n",
       "      <td>5</td>\n",
       "      <td>2010</td>\n",
       "      <td>WD</td>\n",
       "      <td>Normal</td>\n",
       "      <td>215000</td>\n",
       "    </tr>\n",
       "    <tr>\n",
       "      <th>1</th>\n",
       "      <td>526350040</td>\n",
       "      <td>20</td>\n",
       "      <td>RH</td>\n",
       "      <td>80.0</td>\n",
       "      <td>11622</td>\n",
       "      <td>Pave</td>\n",
       "      <td>NaN</td>\n",
       "      <td>Reg</td>\n",
       "      <td>Lvl</td>\n",
       "      <td>AllPub</td>\n",
       "      <td>...</td>\n",
       "      <td>0</td>\n",
       "      <td>NaN</td>\n",
       "      <td>MnPrv</td>\n",
       "      <td>NaN</td>\n",
       "      <td>0</td>\n",
       "      <td>6</td>\n",
       "      <td>2010</td>\n",
       "      <td>WD</td>\n",
       "      <td>Normal</td>\n",
       "      <td>105000</td>\n",
       "    </tr>\n",
       "    <tr>\n",
       "      <th>2</th>\n",
       "      <td>526351010</td>\n",
       "      <td>20</td>\n",
       "      <td>RL</td>\n",
       "      <td>81.0</td>\n",
       "      <td>14267</td>\n",
       "      <td>Pave</td>\n",
       "      <td>NaN</td>\n",
       "      <td>IR1</td>\n",
       "      <td>Lvl</td>\n",
       "      <td>AllPub</td>\n",
       "      <td>...</td>\n",
       "      <td>0</td>\n",
       "      <td>NaN</td>\n",
       "      <td>NaN</td>\n",
       "      <td>Gar2</td>\n",
       "      <td>12500</td>\n",
       "      <td>6</td>\n",
       "      <td>2010</td>\n",
       "      <td>WD</td>\n",
       "      <td>Normal</td>\n",
       "      <td>172000</td>\n",
       "    </tr>\n",
       "    <tr>\n",
       "      <th>3</th>\n",
       "      <td>526353030</td>\n",
       "      <td>20</td>\n",
       "      <td>RL</td>\n",
       "      <td>93.0</td>\n",
       "      <td>11160</td>\n",
       "      <td>Pave</td>\n",
       "      <td>NaN</td>\n",
       "      <td>Reg</td>\n",
       "      <td>Lvl</td>\n",
       "      <td>AllPub</td>\n",
       "      <td>...</td>\n",
       "      <td>0</td>\n",
       "      <td>NaN</td>\n",
       "      <td>NaN</td>\n",
       "      <td>NaN</td>\n",
       "      <td>0</td>\n",
       "      <td>4</td>\n",
       "      <td>2010</td>\n",
       "      <td>WD</td>\n",
       "      <td>Normal</td>\n",
       "      <td>244000</td>\n",
       "    </tr>\n",
       "    <tr>\n",
       "      <th>4</th>\n",
       "      <td>527105010</td>\n",
       "      <td>60</td>\n",
       "      <td>RL</td>\n",
       "      <td>74.0</td>\n",
       "      <td>13830</td>\n",
       "      <td>Pave</td>\n",
       "      <td>NaN</td>\n",
       "      <td>IR1</td>\n",
       "      <td>Lvl</td>\n",
       "      <td>AllPub</td>\n",
       "      <td>...</td>\n",
       "      <td>0</td>\n",
       "      <td>NaN</td>\n",
       "      <td>MnPrv</td>\n",
       "      <td>NaN</td>\n",
       "      <td>0</td>\n",
       "      <td>3</td>\n",
       "      <td>2010</td>\n",
       "      <td>WD</td>\n",
       "      <td>Normal</td>\n",
       "      <td>189900</td>\n",
       "    </tr>\n",
       "  </tbody>\n",
       "</table>\n",
       "<p>5 rows × 81 columns</p>\n",
       "</div>"
      ]
     },
     "execution_count": 9,
     "metadata": {},
     "output_type": "execute_result"
    }
   ],
   "execution_count": 9
  },
  {
   "metadata": {
    "ExecuteTime": {
     "end_time": "2025-09-13T17:04:12.696491Z",
     "start_time": "2025-09-13T17:04:12.691779Z"
    }
   },
   "cell_type": "code",
   "source": "len(df.columns)",
   "id": "f3ff99880a8592ef",
   "outputs": [
    {
     "data": {
      "text/plain": [
       "81"
      ]
     },
     "execution_count": 11,
     "metadata": {},
     "output_type": "execute_result"
    }
   ],
   "execution_count": 11
  },
  {
   "metadata": {
    "ExecuteTime": {
     "end_time": "2025-09-13T17:04:36.085760Z",
     "start_time": "2025-09-13T17:04:36.080508Z"
    }
   },
   "cell_type": "code",
   "source": "df.set_index(df.columns[0], inplace=True)",
   "id": "8e4b4b31fefd895a",
   "outputs": [],
   "execution_count": 12
  },
  {
   "metadata": {
    "ExecuteTime": {
     "end_time": "2025-09-13T17:04:42.314049Z",
     "start_time": "2025-09-13T17:04:42.299728Z"
    }
   },
   "cell_type": "code",
   "source": "df.head()",
   "id": "8194871b4e1f2197",
   "outputs": [
    {
     "data": {
      "text/plain": [
       "           MS SubClass MS Zoning  Lot Frontage  Lot Area Street Alley  \\\n",
       "PID                                                                     \n",
       "526301100           20        RL         141.0     31770   Pave   NaN   \n",
       "526350040           20        RH          80.0     11622   Pave   NaN   \n",
       "526351010           20        RL          81.0     14267   Pave   NaN   \n",
       "526353030           20        RL          93.0     11160   Pave   NaN   \n",
       "527105010           60        RL          74.0     13830   Pave   NaN   \n",
       "\n",
       "          Lot Shape Land Contour Utilities Lot Config  ... Pool Area Pool QC  \\\n",
       "PID                                                    ...                     \n",
       "526301100       IR1          Lvl    AllPub     Corner  ...         0     NaN   \n",
       "526350040       Reg          Lvl    AllPub     Inside  ...         0     NaN   \n",
       "526351010       IR1          Lvl    AllPub     Corner  ...         0     NaN   \n",
       "526353030       Reg          Lvl    AllPub     Corner  ...         0     NaN   \n",
       "527105010       IR1          Lvl    AllPub     Inside  ...         0     NaN   \n",
       "\n",
       "           Fence Misc Feature Misc Val Mo Sold  Yr Sold  Sale Type  \\\n",
       "PID                                                                  \n",
       "526301100    NaN          NaN        0       5     2010        WD    \n",
       "526350040  MnPrv          NaN        0       6     2010        WD    \n",
       "526351010    NaN         Gar2    12500       6     2010        WD    \n",
       "526353030    NaN          NaN        0       4     2010        WD    \n",
       "527105010  MnPrv          NaN        0       3     2010        WD    \n",
       "\n",
       "           Sale Condition  SalePrice  \n",
       "PID                                   \n",
       "526301100          Normal     215000  \n",
       "526350040          Normal     105000  \n",
       "526351010          Normal     172000  \n",
       "526353030          Normal     244000  \n",
       "527105010          Normal     189900  \n",
       "\n",
       "[5 rows x 80 columns]"
      ],
      "text/html": [
       "<div>\n",
       "<style scoped>\n",
       "    .dataframe tbody tr th:only-of-type {\n",
       "        vertical-align: middle;\n",
       "    }\n",
       "\n",
       "    .dataframe tbody tr th {\n",
       "        vertical-align: top;\n",
       "    }\n",
       "\n",
       "    .dataframe thead th {\n",
       "        text-align: right;\n",
       "    }\n",
       "</style>\n",
       "<table border=\"1\" class=\"dataframe\">\n",
       "  <thead>\n",
       "    <tr style=\"text-align: right;\">\n",
       "      <th></th>\n",
       "      <th>MS SubClass</th>\n",
       "      <th>MS Zoning</th>\n",
       "      <th>Lot Frontage</th>\n",
       "      <th>Lot Area</th>\n",
       "      <th>Street</th>\n",
       "      <th>Alley</th>\n",
       "      <th>Lot Shape</th>\n",
       "      <th>Land Contour</th>\n",
       "      <th>Utilities</th>\n",
       "      <th>Lot Config</th>\n",
       "      <th>...</th>\n",
       "      <th>Pool Area</th>\n",
       "      <th>Pool QC</th>\n",
       "      <th>Fence</th>\n",
       "      <th>Misc Feature</th>\n",
       "      <th>Misc Val</th>\n",
       "      <th>Mo Sold</th>\n",
       "      <th>Yr Sold</th>\n",
       "      <th>Sale Type</th>\n",
       "      <th>Sale Condition</th>\n",
       "      <th>SalePrice</th>\n",
       "    </tr>\n",
       "    <tr>\n",
       "      <th>PID</th>\n",
       "      <th></th>\n",
       "      <th></th>\n",
       "      <th></th>\n",
       "      <th></th>\n",
       "      <th></th>\n",
       "      <th></th>\n",
       "      <th></th>\n",
       "      <th></th>\n",
       "      <th></th>\n",
       "      <th></th>\n",
       "      <th></th>\n",
       "      <th></th>\n",
       "      <th></th>\n",
       "      <th></th>\n",
       "      <th></th>\n",
       "      <th></th>\n",
       "      <th></th>\n",
       "      <th></th>\n",
       "      <th></th>\n",
       "      <th></th>\n",
       "      <th></th>\n",
       "    </tr>\n",
       "  </thead>\n",
       "  <tbody>\n",
       "    <tr>\n",
       "      <th>526301100</th>\n",
       "      <td>20</td>\n",
       "      <td>RL</td>\n",
       "      <td>141.0</td>\n",
       "      <td>31770</td>\n",
       "      <td>Pave</td>\n",
       "      <td>NaN</td>\n",
       "      <td>IR1</td>\n",
       "      <td>Lvl</td>\n",
       "      <td>AllPub</td>\n",
       "      <td>Corner</td>\n",
       "      <td>...</td>\n",
       "      <td>0</td>\n",
       "      <td>NaN</td>\n",
       "      <td>NaN</td>\n",
       "      <td>NaN</td>\n",
       "      <td>0</td>\n",
       "      <td>5</td>\n",
       "      <td>2010</td>\n",
       "      <td>WD</td>\n",
       "      <td>Normal</td>\n",
       "      <td>215000</td>\n",
       "    </tr>\n",
       "    <tr>\n",
       "      <th>526350040</th>\n",
       "      <td>20</td>\n",
       "      <td>RH</td>\n",
       "      <td>80.0</td>\n",
       "      <td>11622</td>\n",
       "      <td>Pave</td>\n",
       "      <td>NaN</td>\n",
       "      <td>Reg</td>\n",
       "      <td>Lvl</td>\n",
       "      <td>AllPub</td>\n",
       "      <td>Inside</td>\n",
       "      <td>...</td>\n",
       "      <td>0</td>\n",
       "      <td>NaN</td>\n",
       "      <td>MnPrv</td>\n",
       "      <td>NaN</td>\n",
       "      <td>0</td>\n",
       "      <td>6</td>\n",
       "      <td>2010</td>\n",
       "      <td>WD</td>\n",
       "      <td>Normal</td>\n",
       "      <td>105000</td>\n",
       "    </tr>\n",
       "    <tr>\n",
       "      <th>526351010</th>\n",
       "      <td>20</td>\n",
       "      <td>RL</td>\n",
       "      <td>81.0</td>\n",
       "      <td>14267</td>\n",
       "      <td>Pave</td>\n",
       "      <td>NaN</td>\n",
       "      <td>IR1</td>\n",
       "      <td>Lvl</td>\n",
       "      <td>AllPub</td>\n",
       "      <td>Corner</td>\n",
       "      <td>...</td>\n",
       "      <td>0</td>\n",
       "      <td>NaN</td>\n",
       "      <td>NaN</td>\n",
       "      <td>Gar2</td>\n",
       "      <td>12500</td>\n",
       "      <td>6</td>\n",
       "      <td>2010</td>\n",
       "      <td>WD</td>\n",
       "      <td>Normal</td>\n",
       "      <td>172000</td>\n",
       "    </tr>\n",
       "    <tr>\n",
       "      <th>526353030</th>\n",
       "      <td>20</td>\n",
       "      <td>RL</td>\n",
       "      <td>93.0</td>\n",
       "      <td>11160</td>\n",
       "      <td>Pave</td>\n",
       "      <td>NaN</td>\n",
       "      <td>Reg</td>\n",
       "      <td>Lvl</td>\n",
       "      <td>AllPub</td>\n",
       "      <td>Corner</td>\n",
       "      <td>...</td>\n",
       "      <td>0</td>\n",
       "      <td>NaN</td>\n",
       "      <td>NaN</td>\n",
       "      <td>NaN</td>\n",
       "      <td>0</td>\n",
       "      <td>4</td>\n",
       "      <td>2010</td>\n",
       "      <td>WD</td>\n",
       "      <td>Normal</td>\n",
       "      <td>244000</td>\n",
       "    </tr>\n",
       "    <tr>\n",
       "      <th>527105010</th>\n",
       "      <td>60</td>\n",
       "      <td>RL</td>\n",
       "      <td>74.0</td>\n",
       "      <td>13830</td>\n",
       "      <td>Pave</td>\n",
       "      <td>NaN</td>\n",
       "      <td>IR1</td>\n",
       "      <td>Lvl</td>\n",
       "      <td>AllPub</td>\n",
       "      <td>Inside</td>\n",
       "      <td>...</td>\n",
       "      <td>0</td>\n",
       "      <td>NaN</td>\n",
       "      <td>MnPrv</td>\n",
       "      <td>NaN</td>\n",
       "      <td>0</td>\n",
       "      <td>3</td>\n",
       "      <td>2010</td>\n",
       "      <td>WD</td>\n",
       "      <td>Normal</td>\n",
       "      <td>189900</td>\n",
       "    </tr>\n",
       "  </tbody>\n",
       "</table>\n",
       "<p>5 rows × 80 columns</p>\n",
       "</div>"
      ]
     },
     "execution_count": 13,
     "metadata": {},
     "output_type": "execute_result"
    }
   ],
   "execution_count": 13
  },
  {
   "metadata": {
    "ExecuteTime": {
     "end_time": "2025-09-13T17:08:42.005338Z",
     "start_time": "2025-09-13T17:08:41.993999Z"
    }
   },
   "cell_type": "code",
   "source": "df.isnull().sum()",
   "id": "5344b14dee649b82",
   "outputs": [
    {
     "data": {
      "text/plain": [
       "MS SubClass         0\n",
       "MS Zoning           0\n",
       "Lot Frontage      490\n",
       "Lot Area            0\n",
       "Street              0\n",
       "                 ... \n",
       "Mo Sold             0\n",
       "Yr Sold             0\n",
       "Sale Type           0\n",
       "Sale Condition      0\n",
       "SalePrice           0\n",
       "Length: 80, dtype: int64"
      ]
     },
     "execution_count": 15,
     "metadata": {},
     "output_type": "execute_result"
    }
   ],
   "execution_count": 15
  },
  {
   "metadata": {
    "ExecuteTime": {
     "end_time": "2025-09-13T17:10:46.633463Z",
     "start_time": "2025-09-13T17:10:46.630143Z"
    }
   },
   "cell_type": "code",
   "source": [
    "def percent_missing(df):\n",
    "    percent_nan = 100* df.isnull().sum() / len(df)\n",
    "    percent_nan = percent_nan[percent_nan>0].sort_values()\n",
    "    return percent_nan"
   ],
   "id": "17d42f29c824b00e",
   "outputs": [],
   "execution_count": 23
  },
  {
   "metadata": {
    "ExecuteTime": {
     "end_time": "2025-09-13T17:10:53.613471Z",
     "start_time": "2025-09-13T17:10:53.604953Z"
    }
   },
   "cell_type": "code",
   "source": "percent_nan = percent_missing(df)",
   "id": "3743e82484a45da0",
   "outputs": [],
   "execution_count": 24
  },
  {
   "metadata": {
    "ExecuteTime": {
     "end_time": "2025-09-13T17:10:55.161782Z",
     "start_time": "2025-09-13T17:10:55.156215Z"
    }
   },
   "cell_type": "code",
   "source": "percent_nan",
   "id": "884e7a51376aa272",
   "outputs": [
    {
     "data": {
      "text/plain": [
       "Total Bsmt SF      0.034165\n",
       "Bsmt Unf SF        0.034165\n",
       "BsmtFin SF 2       0.034165\n",
       "Electrical         0.034165\n",
       "BsmtFin SF 1       0.034165\n",
       "Garage Area        0.034165\n",
       "Garage Cars        0.034165\n",
       "Bsmt Full Bath     0.068329\n",
       "Bsmt Half Bath     0.068329\n",
       "Mas Vnr Area       0.785787\n",
       "Bsmt Qual          2.733174\n",
       "Bsmt Cond          2.733174\n",
       "BsmtFin Type 1     2.733174\n",
       "BsmtFin Type 2     2.767339\n",
       "Bsmt Exposure      2.835668\n",
       "Garage Type        5.363854\n",
       "Garage Qual        5.432183\n",
       "Garage Finish      5.432183\n",
       "Garage Cond        5.432183\n",
       "Garage Yr Blt      5.432183\n",
       "Lot Frontage      16.740690\n",
       "Fireplace Qu      48.582166\n",
       "Mas Vnr Type      60.642296\n",
       "Fence             80.457807\n",
       "Alley             93.235395\n",
       "Misc Feature      96.412709\n",
       "Pool QC           99.590024\n",
       "dtype: float64"
      ]
     },
     "execution_count": 25,
     "metadata": {},
     "output_type": "execute_result"
    }
   ],
   "execution_count": 25
  },
  {
   "metadata": {
    "ExecuteTime": {
     "end_time": "2025-09-13T17:11:10.485049Z",
     "start_time": "2025-09-13T17:11:10.194669Z"
    }
   },
   "cell_type": "code",
   "source": [
    "sns.barplot(x=percent_nan.index,y=percent_nan)\n",
    "plt.xticks(rotation=90);"
   ],
   "id": "b472bb5bad7b1efd",
   "outputs": [
    {
     "data": {
      "text/plain": [
       "<Figure size 640x480 with 1 Axes>"
      ],
      "image/png": "[encoded data removed]"
     },
     "metadata": {},
     "output_type": "display_data"
    }
   ],
   "execution_count": 26
  },
  {
   "metadata": {
    "ExecuteTime": {
     "end_time": "2025-09-13T17:15:56.290190Z",
     "start_time": "2025-09-13T17:15:56.016543Z"
    }
   },
   "cell_type": "code",
   "source": [
    "sns.barplot(x=percent_nan.index,y=percent_nan)\n",
    "plt.xticks(rotation=90);\n",
    "plt.ylim(0, 1)"
   ],
   "id": "2622e14d81677b3e",
   "outputs": [
    {
     "data": {
      "text/plain": [
       "(0.0, 1.0)"
      ]
     },
     "execution_count": 34,
     "metadata": {},
     "output_type": "execute_result"
    },
    {
     "data": {
      "text/plain": [
       "<Figure size 640x480 with 1 Axes>"
      ],
      "image/png": "[encoded data removed]"
     },
     "metadata": {},
     "output_type": "display_data"
    }
   ],
   "execution_count": 34
  },
  {
   "metadata": {
    "ExecuteTime": {
     "end_time": "2025-09-13T18:34:27.183228Z",
     "start_time": "2025-09-13T18:34:27.177451Z"
    }
   },
   "cell_type": "code",
   "source": "percent_nan[percent_nan < 1]",
   "id": "2041a888d58b4037",
   "outputs": [
    {
     "data": {
      "text/plain": [
       "Total Bsmt SF     0.034165\n",
       "Bsmt Unf SF       0.034165\n",
       "BsmtFin SF 2      0.034165\n",
       "Electrical        0.034165\n",
       "BsmtFin SF 1      0.034165\n",
       "Garage Area       0.034165\n",
       "Garage Cars       0.034165\n",
       "Bsmt Full Bath    0.068329\n",
       "Bsmt Half Bath    0.068329\n",
       "Mas Vnr Area      0.785787\n",
       "dtype: float64"
      ]
     },
     "execution_count": 36,
     "metadata": {},
     "output_type": "execute_result"
    }
   ],
   "execution_count": 36
  },
  {
   "metadata": {
    "ExecuteTime": {
     "end_time": "2025-09-13T18:36:19.628794Z",
     "start_time": "2025-09-13T18:36:19.622433Z"
    }
   },
   "cell_type": "code",
   "source": "df[df[\"Electrical\"].isna()][\"Garage Area\"]",
   "id": "b2b97b6585cea40a",
   "outputs": [
    {
     "data": {
      "text/plain": [
       "PID\n",
       "916386080    400.0\n",
       "Name: Garage Area, dtype: float64"
      ]
     },
     "execution_count": 38,
     "metadata": {},
     "output_type": "execute_result"
    }
   ],
   "execution_count": 38
  },
  {
   "metadata": {
    "ExecuteTime": {
     "end_time": "2025-09-13T18:37:02.262522Z",
     "start_time": "2025-09-13T18:37:02.247261Z"
    }
   },
   "cell_type": "code",
   "source": "df[df[\"Bsmt Half Bath\"].isna()]",
   "id": "9a9080f7b56e6685",
   "outputs": [
    {
     "data": {
      "text/plain": [
       "           MS SubClass MS Zoning  Lot Frontage  Lot Area Street Alley  \\\n",
       "PID                                                                     \n",
       "903230120           20        RM          99.0      5940   Pave   NaN   \n",
       "908154080           20        RL         123.0     47007   Pave   NaN   \n",
       "\n",
       "          Lot Shape Land Contour Utilities Lot Config  ... Pool Area Pool QC  \\\n",
       "PID                                                    ...                     \n",
       "903230120       IR1          Lvl    AllPub        FR3  ...         0     NaN   \n",
       "908154080       IR1          Lvl    AllPub     Inside  ...         0     NaN   \n",
       "\n",
       "           Fence Misc Feature Misc Val Mo Sold  Yr Sold  Sale Type  \\\n",
       "PID                                                                  \n",
       "903230120  MnPrv          NaN        0       4     2008      ConLD   \n",
       "908154080    NaN          NaN        0       7     2008        WD    \n",
       "\n",
       "           Sale Condition  SalePrice  \n",
       "PID                                   \n",
       "903230120         Abnorml      79000  \n",
       "908154080          Normal     284700  \n",
       "\n",
       "[2 rows x 80 columns]"
      ],
      "text/html": [
       "<div>\n",
       "<style scoped>\n",
       "    .dataframe tbody tr th:only-of-type {\n",
       "        vertical-align: middle;\n",
       "    }\n",
       "\n",
       "    .dataframe tbody tr th {\n",
       "        vertical-align: top;\n",
       "    }\n",
       "\n",
       "    .dataframe thead th {\n",
       "        text-align: right;\n",
       "    }\n",
       "</style>\n",
       "<table border=\"1\" class=\"dataframe\">\n",
       "  <thead>\n",
       "    <tr style=\"text-align: right;\">\n",
       "      <th></th>\n",
       "      <th>MS SubClass</th>\n",
       "      <th>MS Zoning</th>\n",
       "      <th>Lot Frontage</th>\n",
       "      <th>Lot Area</th>\n",
       "      <th>Street</th>\n",
       "      <th>Alley</th>\n",
       "      <th>Lot Shape</th>\n",
       "      <th>Land Contour</th>\n",
       "      <th>Utilities</th>\n",
       "      <th>Lot Config</th>\n",
       "      <th>...</th>\n",
       "      <th>Pool Area</th>\n",
       "      <th>Pool QC</th>\n",
       "      <th>Fence</th>\n",
       "      <th>Misc Feature</th>\n",
       "      <th>Misc Val</th>\n",
       "      <th>Mo Sold</th>\n",
       "      <th>Yr Sold</th>\n",
       "      <th>Sale Type</th>\n",
       "      <th>Sale Condition</th>\n",
       "      <th>SalePrice</th>\n",
       "    </tr>\n",
       "    <tr>\n",
       "      <th>PID</th>\n",
       "      <th></th>\n",
       "      <th></th>\n",
       "      <th></th>\n",
       "      <th></th>\n",
       "      <th></th>\n",
       "      <th></th>\n",
       "      <th></th>\n",
       "      <th></th>\n",
       "      <th></th>\n",
       "      <th></th>\n",
       "      <th></th>\n",
       "      <th></th>\n",
       "      <th></th>\n",
       "      <th></th>\n",
       "      <th></th>\n",
       "      <th></th>\n",
       "      <th></th>\n",
       "      <th></th>\n",
       "      <th></th>\n",
       "      <th></th>\n",
       "      <th></th>\n",
       "    </tr>\n",
       "  </thead>\n",
       "  <tbody>\n",
       "    <tr>\n",
       "      <th>903230120</th>\n",
       "      <td>20</td>\n",
       "      <td>RM</td>\n",
       "      <td>99.0</td>\n",
       "      <td>5940</td>\n",
       "      <td>Pave</td>\n",
       "      <td>NaN</td>\n",
       "      <td>IR1</td>\n",
       "      <td>Lvl</td>\n",
       "      <td>AllPub</td>\n",
       "      <td>FR3</td>\n",
       "      <td>...</td>\n",
       "      <td>0</td>\n",
       "      <td>NaN</td>\n",
       "      <td>MnPrv</td>\n",
       "      <td>NaN</td>\n",
       "      <td>0</td>\n",
       "      <td>4</td>\n",
       "      <td>2008</td>\n",
       "      <td>ConLD</td>\n",
       "      <td>Abnorml</td>\n",
       "      <td>79000</td>\n",
       "    </tr>\n",
       "    <tr>\n",
       "      <th>908154080</th>\n",
       "      <td>20</td>\n",
       "      <td>RL</td>\n",
       "      <td>123.0</td>\n",
       "      <td>47007</td>\n",
       "      <td>Pave</td>\n",
       "      <td>NaN</td>\n",
       "      <td>IR1</td>\n",
       "      <td>Lvl</td>\n",
       "      <td>AllPub</td>\n",
       "      <td>Inside</td>\n",
       "      <td>...</td>\n",
       "      <td>0</td>\n",
       "      <td>NaN</td>\n",
       "      <td>NaN</td>\n",
       "      <td>NaN</td>\n",
       "      <td>0</td>\n",
       "      <td>7</td>\n",
       "      <td>2008</td>\n",
       "      <td>WD</td>\n",
       "      <td>Normal</td>\n",
       "      <td>284700</td>\n",
       "    </tr>\n",
       "  </tbody>\n",
       "</table>\n",
       "<p>2 rows × 80 columns</p>\n",
       "</div>"
      ]
     },
     "execution_count": 39,
     "metadata": {},
     "output_type": "execute_result"
    }
   ],
   "execution_count": 39
  },
  {
   "metadata": {
    "ExecuteTime": {
     "end_time": "2025-09-13T18:40:01.206413Z",
     "start_time": "2025-09-13T18:40:01.199884Z"
    }
   },
   "cell_type": "code",
   "source": "df = df.dropna(axis=0, subset=[\"Garage Area\", \"Electrical\"])",
   "id": "f5f4fd84ecc113b0",
   "outputs": [],
   "execution_count": 41
  },
  {
   "metadata": {
    "ExecuteTime": {
     "end_time": "2025-09-13T18:40:36.824386Z",
     "start_time": "2025-09-13T18:40:36.814383Z"
    }
   },
   "cell_type": "code",
   "source": "percent_nan = percent_missing(df)",
   "id": "7db01d4803d95465",
   "outputs": [],
   "execution_count": 42
  },
  {
   "metadata": {
    "ExecuteTime": {
     "end_time": "2025-09-13T18:42:17.026683Z",
     "start_time": "2025-09-13T18:42:16.711654Z"
    }
   },
   "cell_type": "code",
   "source": [
    "sns.barplot(x=percent_nan.index,y=percent_nan)\n",
    "plt.xticks(rotation=90);\n",
    "plt.ylim(0, 1)"
   ],
   "id": "f6e04bbd4eb68430",
   "outputs": [
    {
     "data": {
      "text/plain": [
       "(0.0, 1.0)"
      ]
     },
     "execution_count": 43,
     "metadata": {},
     "output_type": "execute_result"
    },
    {
     "data": {
      "text/plain": [
       "<Figure size 640x480 with 1 Axes>"
      ],
      "image/png": "[encoded data removed]"
     },
     "metadata": {},
     "output_type": "display_data"
    }
   ],
   "execution_count": 43
  },
  {
   "metadata": {
    "ExecuteTime": {
     "end_time": "2025-09-13T18:42:58.186744Z",
     "start_time": "2025-09-13T18:42:58.171375Z"
    }
   },
   "cell_type": "code",
   "source": "df[df[\"Bsmt Half Bath\"].isna()]",
   "id": "827f935199fb2a74",
   "outputs": [
    {
     "data": {
      "text/plain": [
       "           MS SubClass MS Zoning  Lot Frontage  Lot Area Street Alley  \\\n",
       "PID                                                                     \n",
       "903230120           20        RM          99.0      5940   Pave   NaN   \n",
       "908154080           20        RL         123.0     47007   Pave   NaN   \n",
       "\n",
       "          Lot Shape Land Contour Utilities Lot Config  ... Pool Area Pool QC  \\\n",
       "PID                                                    ...                     \n",
       "903230120       IR1          Lvl    AllPub        FR3  ...         0     NaN   \n",
       "908154080       IR1          Lvl    AllPub     Inside  ...         0     NaN   \n",
       "\n",
       "           Fence Misc Feature Misc Val Mo Sold  Yr Sold  Sale Type  \\\n",
       "PID                                                                  \n",
       "903230120  MnPrv          NaN        0       4     2008      ConLD   \n",
       "908154080    NaN          NaN        0       7     2008        WD    \n",
       "\n",
       "           Sale Condition  SalePrice  \n",
       "PID                                   \n",
       "903230120         Abnorml      79000  \n",
       "908154080          Normal     284700  \n",
       "\n",
       "[2 rows x 80 columns]"
      ],
      "text/html": [
       "<div>\n",
       "<style scoped>\n",
       "    .dataframe tbody tr th:only-of-type {\n",
       "        vertical-align: middle;\n",
       "    }\n",
       "\n",
       "    .dataframe tbody tr th {\n",
       "        vertical-align: top;\n",
       "    }\n",
       "\n",
       "    .dataframe thead th {\n",
       "        text-align: right;\n",
       "    }\n",
       "</style>\n",
       "<table border=\"1\" class=\"dataframe\">\n",
       "  <thead>\n",
       "    <tr style=\"text-align: right;\">\n",
       "      <th></th>\n",
       "      <th>MS SubClass</th>\n",
       "      <th>MS Zoning</th>\n",
       "      <th>Lot Frontage</th>\n",
       "      <th>Lot Area</th>\n",
       "      <th>Street</th>\n",
       "      <th>Alley</th>\n",
       "      <th>Lot Shape</th>\n",
       "      <th>Land Contour</th>\n",
       "      <th>Utilities</th>\n",
       "      <th>Lot Config</th>\n",
       "      <th>...</th>\n",
       "      <th>Pool Area</th>\n",
       "      <th>Pool QC</th>\n",
       "      <th>Fence</th>\n",
       "      <th>Misc Feature</th>\n",
       "      <th>Misc Val</th>\n",
       "      <th>Mo Sold</th>\n",
       "      <th>Yr Sold</th>\n",
       "      <th>Sale Type</th>\n",
       "      <th>Sale Condition</th>\n",
       "      <th>SalePrice</th>\n",
       "    </tr>\n",
       "    <tr>\n",
       "      <th>PID</th>\n",
       "      <th></th>\n",
       "      <th></th>\n",
       "      <th></th>\n",
       "      <th></th>\n",
       "      <th></th>\n",
       "      <th></th>\n",
       "      <th></th>\n",
       "      <th></th>\n",
       "      <th></th>\n",
       "      <th></th>\n",
       "      <th></th>\n",
       "      <th></th>\n",
       "      <th></th>\n",
       "      <th></th>\n",
       "      <th></th>\n",
       "      <th></th>\n",
       "      <th></th>\n",
       "      <th></th>\n",
       "      <th></th>\n",
       "      <th></th>\n",
       "      <th></th>\n",
       "    </tr>\n",
       "  </thead>\n",
       "  <tbody>\n",
       "    <tr>\n",
       "      <th>903230120</th>\n",
       "      <td>20</td>\n",
       "      <td>RM</td>\n",
       "      <td>99.0</td>\n",
       "      <td>5940</td>\n",
       "      <td>Pave</td>\n",
       "      <td>NaN</td>\n",
       "      <td>IR1</td>\n",
       "      <td>Lvl</td>\n",
       "      <td>AllPub</td>\n",
       "      <td>FR3</td>\n",
       "      <td>...</td>\n",
       "      <td>0</td>\n",
       "      <td>NaN</td>\n",
       "      <td>MnPrv</td>\n",
       "      <td>NaN</td>\n",
       "      <td>0</td>\n",
       "      <td>4</td>\n",
       "      <td>2008</td>\n",
       "      <td>ConLD</td>\n",
       "      <td>Abnorml</td>\n",
       "      <td>79000</td>\n",
       "    </tr>\n",
       "    <tr>\n",
       "      <th>908154080</th>\n",
       "      <td>20</td>\n",
       "      <td>RL</td>\n",
       "      <td>123.0</td>\n",
       "      <td>47007</td>\n",
       "      <td>Pave</td>\n",
       "      <td>NaN</td>\n",
       "      <td>IR1</td>\n",
       "      <td>Lvl</td>\n",
       "      <td>AllPub</td>\n",
       "      <td>Inside</td>\n",
       "      <td>...</td>\n",
       "      <td>0</td>\n",
       "      <td>NaN</td>\n",
       "      <td>NaN</td>\n",
       "      <td>NaN</td>\n",
       "      <td>0</td>\n",
       "      <td>7</td>\n",
       "      <td>2008</td>\n",
       "      <td>WD</td>\n",
       "      <td>Normal</td>\n",
       "      <td>284700</td>\n",
       "    </tr>\n",
       "  </tbody>\n",
       "</table>\n",
       "<p>2 rows × 80 columns</p>\n",
       "</div>"
      ]
     },
     "execution_count": 44,
     "metadata": {},
     "output_type": "execute_result"
    }
   ],
   "execution_count": 44
  },
  {
   "metadata": {
    "ExecuteTime": {
     "end_time": "2025-09-13T18:43:06.755023Z",
     "start_time": "2025-09-13T18:43:06.738861Z"
    }
   },
   "cell_type": "code",
   "source": "df[df[\"Bsmt Full Bath\"].isna()]",
   "id": "914344abea6e585b",
   "outputs": [
    {
     "data": {
      "text/plain": [
       "           MS SubClass MS Zoning  Lot Frontage  Lot Area Street Alley  \\\n",
       "PID                                                                     \n",
       "903230120           20        RM          99.0      5940   Pave   NaN   \n",
       "908154080           20        RL         123.0     47007   Pave   NaN   \n",
       "\n",
       "          Lot Shape Land Contour Utilities Lot Config  ... Pool Area Pool QC  \\\n",
       "PID                                                    ...                     \n",
       "903230120       IR1          Lvl    AllPub        FR3  ...         0     NaN   \n",
       "908154080       IR1          Lvl    AllPub     Inside  ...         0     NaN   \n",
       "\n",
       "           Fence Misc Feature Misc Val Mo Sold  Yr Sold  Sale Type  \\\n",
       "PID                                                                  \n",
       "903230120  MnPrv          NaN        0       4     2008      ConLD   \n",
       "908154080    NaN          NaN        0       7     2008        WD    \n",
       "\n",
       "           Sale Condition  SalePrice  \n",
       "PID                                   \n",
       "903230120         Abnorml      79000  \n",
       "908154080          Normal     284700  \n",
       "\n",
       "[2 rows x 80 columns]"
      ],
      "text/html": [
       "<div>\n",
       "<style scoped>\n",
       "    .dataframe tbody tr th:only-of-type {\n",
       "        vertical-align: middle;\n",
       "    }\n",
       "\n",
       "    .dataframe tbody tr th {\n",
       "        vertical-align: top;\n",
       "    }\n",
       "\n",
       "    .dataframe thead th {\n",
       "        text-align: right;\n",
       "    }\n",
       "</style>\n",
       "<table border=\"1\" class=\"dataframe\">\n",
       "  <thead>\n",
       "    <tr style=\"text-align: right;\">\n",
       "      <th></th>\n",
       "      <th>MS SubClass</th>\n",
       "      <th>MS Zoning</th>\n",
       "      <th>Lot Frontage</th>\n",
       "      <th>Lot Area</th>\n",
       "      <th>Street</th>\n",
       "      <th>Alley</th>\n",
       "      <th>Lot Shape</th>\n",
       "      <th>Land Contour</th>\n",
       "      <th>Utilities</th>\n",
       "      <th>Lot Config</th>\n",
       "      <th>...</th>\n",
       "      <th>Pool Area</th>\n",
       "      <th>Pool QC</th>\n",
       "      <th>Fence</th>\n",
       "      <th>Misc Feature</th>\n",
       "      <th>Misc Val</th>\n",
       "      <th>Mo Sold</th>\n",
       "      <th>Yr Sold</th>\n",
       "      <th>Sale Type</th>\n",
       "      <th>Sale Condition</th>\n",
       "      <th>SalePrice</th>\n",
       "    </tr>\n",
       "    <tr>\n",
       "      <th>PID</th>\n",
       "      <th></th>\n",
       "      <th></th>\n",
       "      <th></th>\n",
       "      <th></th>\n",
       "      <th></th>\n",
       "      <th></th>\n",
       "      <th></th>\n",
       "      <th></th>\n",
       "      <th></th>\n",
       "      <th></th>\n",
       "      <th></th>\n",
       "      <th></th>\n",
       "      <th></th>\n",
       "      <th></th>\n",
       "      <th></th>\n",
       "      <th></th>\n",
       "      <th></th>\n",
       "      <th></th>\n",
       "      <th></th>\n",
       "      <th></th>\n",
       "      <th></th>\n",
       "    </tr>\n",
       "  </thead>\n",
       "  <tbody>\n",
       "    <tr>\n",
       "      <th>903230120</th>\n",
       "      <td>20</td>\n",
       "      <td>RM</td>\n",
       "      <td>99.0</td>\n",
       "      <td>5940</td>\n",
       "      <td>Pave</td>\n",
       "      <td>NaN</td>\n",
       "      <td>IR1</td>\n",
       "      <td>Lvl</td>\n",
       "      <td>AllPub</td>\n",
       "      <td>FR3</td>\n",
       "      <td>...</td>\n",
       "      <td>0</td>\n",
       "      <td>NaN</td>\n",
       "      <td>MnPrv</td>\n",
       "      <td>NaN</td>\n",
       "      <td>0</td>\n",
       "      <td>4</td>\n",
       "      <td>2008</td>\n",
       "      <td>ConLD</td>\n",
       "      <td>Abnorml</td>\n",
       "      <td>79000</td>\n",
       "    </tr>\n",
       "    <tr>\n",
       "      <th>908154080</th>\n",
       "      <td>20</td>\n",
       "      <td>RL</td>\n",
       "      <td>123.0</td>\n",
       "      <td>47007</td>\n",
       "      <td>Pave</td>\n",
       "      <td>NaN</td>\n",
       "      <td>IR1</td>\n",
       "      <td>Lvl</td>\n",
       "      <td>AllPub</td>\n",
       "      <td>Inside</td>\n",
       "      <td>...</td>\n",
       "      <td>0</td>\n",
       "      <td>NaN</td>\n",
       "      <td>NaN</td>\n",
       "      <td>NaN</td>\n",
       "      <td>0</td>\n",
       "      <td>7</td>\n",
       "      <td>2008</td>\n",
       "      <td>WD</td>\n",
       "      <td>Normal</td>\n",
       "      <td>284700</td>\n",
       "    </tr>\n",
       "  </tbody>\n",
       "</table>\n",
       "<p>2 rows × 80 columns</p>\n",
       "</div>"
      ]
     },
     "execution_count": 45,
     "metadata": {},
     "output_type": "execute_result"
    }
   ],
   "execution_count": 45
  },
  {
   "metadata": {
    "ExecuteTime": {
     "end_time": "2025-09-13T18:43:28.035616Z",
     "start_time": "2025-09-13T18:43:28.020544Z"
    }
   },
   "cell_type": "code",
   "source": "df[df[\"Bsmt Unf SF\"].isna()]",
   "id": "ccb29204b8cfc290",
   "outputs": [
    {
     "data": {
      "text/plain": [
       "           MS SubClass MS Zoning  Lot Frontage  Lot Area Street Alley  \\\n",
       "PID                                                                     \n",
       "903230120           20        RM          99.0      5940   Pave   NaN   \n",
       "\n",
       "          Lot Shape Land Contour Utilities Lot Config  ... Pool Area Pool QC  \\\n",
       "PID                                                    ...                     \n",
       "903230120       IR1          Lvl    AllPub        FR3  ...         0     NaN   \n",
       "\n",
       "           Fence Misc Feature Misc Val Mo Sold  Yr Sold  Sale Type  \\\n",
       "PID                                                                  \n",
       "903230120  MnPrv          NaN        0       4     2008      ConLD   \n",
       "\n",
       "           Sale Condition  SalePrice  \n",
       "PID                                   \n",
       "903230120         Abnorml      79000  \n",
       "\n",
       "[1 rows x 80 columns]"
      ],
      "text/html": [
       "<div>\n",
       "<style scoped>\n",
       "    .dataframe tbody tr th:only-of-type {\n",
       "        vertical-align: middle;\n",
       "    }\n",
       "\n",
       "    .dataframe tbody tr th {\n",
       "        vertical-align: top;\n",
       "    }\n",
       "\n",
       "    .dataframe thead th {\n",
       "        text-align: right;\n",
       "    }\n",
       "</style>\n",
       "<table border=\"1\" class=\"dataframe\">\n",
       "  <thead>\n",
       "    <tr style=\"text-align: right;\">\n",
       "      <th></th>\n",
       "      <th>MS SubClass</th>\n",
       "      <th>MS Zoning</th>\n",
       "      <th>Lot Frontage</th>\n",
       "      <th>Lot Area</th>\n",
       "      <th>Street</th>\n",
       "      <th>Alley</th>\n",
       "      <th>Lot Shape</th>\n",
       "      <th>Land Contour</th>\n",
       "      <th>Utilities</th>\n",
       "      <th>Lot Config</th>\n",
       "      <th>...</th>\n",
       "      <th>Pool Area</th>\n",
       "      <th>Pool QC</th>\n",
       "      <th>Fence</th>\n",
       "      <th>Misc Feature</th>\n",
       "      <th>Misc Val</th>\n",
       "      <th>Mo Sold</th>\n",
       "      <th>Yr Sold</th>\n",
       "      <th>Sale Type</th>\n",
       "      <th>Sale Condition</th>\n",
       "      <th>SalePrice</th>\n",
       "    </tr>\n",
       "    <tr>\n",
       "      <th>PID</th>\n",
       "      <th></th>\n",
       "      <th></th>\n",
       "      <th></th>\n",
       "      <th></th>\n",
       "      <th></th>\n",
       "      <th></th>\n",
       "      <th></th>\n",
       "      <th></th>\n",
       "      <th></th>\n",
       "      <th></th>\n",
       "      <th></th>\n",
       "      <th></th>\n",
       "      <th></th>\n",
       "      <th></th>\n",
       "      <th></th>\n",
       "      <th></th>\n",
       "      <th></th>\n",
       "      <th></th>\n",
       "      <th></th>\n",
       "      <th></th>\n",
       "      <th></th>\n",
       "    </tr>\n",
       "  </thead>\n",
       "  <tbody>\n",
       "    <tr>\n",
       "      <th>903230120</th>\n",
       "      <td>20</td>\n",
       "      <td>RM</td>\n",
       "      <td>99.0</td>\n",
       "      <td>5940</td>\n",
       "      <td>Pave</td>\n",
       "      <td>NaN</td>\n",
       "      <td>IR1</td>\n",
       "      <td>Lvl</td>\n",
       "      <td>AllPub</td>\n",
       "      <td>FR3</td>\n",
       "      <td>...</td>\n",
       "      <td>0</td>\n",
       "      <td>NaN</td>\n",
       "      <td>MnPrv</td>\n",
       "      <td>NaN</td>\n",
       "      <td>0</td>\n",
       "      <td>4</td>\n",
       "      <td>2008</td>\n",
       "      <td>ConLD</td>\n",
       "      <td>Abnorml</td>\n",
       "      <td>79000</td>\n",
       "    </tr>\n",
       "  </tbody>\n",
       "</table>\n",
       "<p>1 rows × 80 columns</p>\n",
       "</div>"
      ]
     },
     "execution_count": 46,
     "metadata": {},
     "output_type": "execute_result"
    }
   ],
   "execution_count": 46
  },
  {
   "metadata": {
    "ExecuteTime": {
     "end_time": "2025-09-13T18:54:39.510046Z",
     "start_time": "2025-09-13T18:54:39.506343Z"
    }
   },
   "cell_type": "code",
   "source": "bsmt_num_cols = ['BsmtFin SF 1', 'BsmtFin SF 2', 'Bsmt Unf SF','Total Bsmt SF', 'Bsmt Full Bath', 'Bsmt Half Bath']",
   "id": "f62b05b1d20eb886",
   "outputs": [],
   "execution_count": 55
  },
  {
   "metadata": {
    "ExecuteTime": {
     "end_time": "2025-09-13T19:00:41.611024Z",
     "start_time": "2025-09-13T19:00:41.595606Z"
    }
   },
   "cell_type": "code",
   "source": "df.loc[:, bsmt_num_cols] = df.loc[:, bsmt_num_cols].fillna(0)",
   "id": "4ac2ceef77ebe05",
   "outputs": [],
   "execution_count": 58
  },
  {
   "metadata": {
    "ExecuteTime": {
     "end_time": "2025-09-13T19:01:28.790549Z",
     "start_time": "2025-09-13T19:01:28.773832Z"
    }
   },
   "cell_type": "code",
   "source": [
    "bsmt_str_cols =  ['Bsmt Qual', 'Bsmt Cond', 'Bsmt Exposure', 'BsmtFin Type 1', 'BsmtFin Type 2']\n",
    "df.loc[:, bsmt_str_cols] = df[bsmt_str_cols].fillna('None')"
   ],
   "id": "3f7743f9b8c59a53",
   "outputs": [],
   "execution_count": 59
  },
  {
   "metadata": {
    "ExecuteTime": {
     "end_time": "2025-09-13T19:01:32.032272Z",
     "start_time": "2025-09-13T19:01:32.023301Z"
    }
   },
   "cell_type": "code",
   "source": "percent_nan = percent_missing(df)",
   "id": "9277cb53de64df76",
   "outputs": [],
   "execution_count": 60
  },
  {
   "metadata": {
    "ExecuteTime": {
     "end_time": "2025-09-13T19:01:40.175668Z",
     "start_time": "2025-09-13T19:01:40.009593Z"
    }
   },
   "cell_type": "code",
   "source": [
    "sns.barplot(x=percent_nan.index,y=percent_nan)\n",
    "plt.xticks(rotation=90);\n",
    "plt.ylim(0, 1)"
   ],
   "id": "11231b80314e8521",
   "outputs": [
    {
     "data": {
      "text/plain": [
       "(0.0, 1.0)"
      ]
     },
     "execution_count": 61,
     "metadata": {},
     "output_type": "execute_result"
    },
    {
     "data": {
      "text/plain": [
       "<Figure size 640x480 with 1 Axes>"
      ],
      "image/png": "[encoded data removed]"
     },
     "metadata": {},
     "output_type": "display_data"
    }
   ],
   "execution_count": 61
  },
  {
   "metadata": {
    "ExecuteTime": {
     "end_time": "2025-09-13T19:03:43.320473Z",
     "start_time": "2025-09-13T19:03:43.316621Z"
    }
   },
   "cell_type": "code",
   "source": "df.loc[:, \"Mas Vnr Type\"] = df[\"Mas Vnr Type\"].fillna('None')",
   "id": "9139d8e3a877de2",
   "outputs": [],
   "execution_count": 62
  },
  {
   "metadata": {
    "ExecuteTime": {
     "end_time": "2025-09-13T19:03:49.489090Z",
     "start_time": "2025-09-13T19:03:49.478770Z"
    }
   },
   "cell_type": "code",
   "source": "percent_nan = percent_missing(df)",
   "id": "aa2fe3108cb66015",
   "outputs": [],
   "execution_count": 63
  },
  {
   "metadata": {
    "ExecuteTime": {
     "end_time": "2025-09-13T19:03:54.126941Z",
     "start_time": "2025-09-13T19:03:53.958407Z"
    }
   },
   "cell_type": "code",
   "source": [
    "sns.barplot(x=percent_nan.index,y=percent_nan)\n",
    "plt.xticks(rotation=90);\n",
    "plt.ylim(0, 1)"
   ],
   "id": "3c868952aaa3541",
   "outputs": [
    {
     "data": {
      "text/plain": [
       "(0.0, 1.0)"
      ]
     },
     "execution_count": 64,
     "metadata": {},
     "output_type": "execute_result"
    },
    {
     "data": {
      "text/plain": [
       "<Figure size 640x480 with 1 Axes>"
      ],
      "image/png": "[encoded data removed]"
     },
     "metadata": {},
     "output_type": "display_data"
    }
   ],
   "execution_count": 64
  },
  {
   "metadata": {
    "ExecuteTime": {
     "end_time": "2025-09-13T19:04:26.701533Z",
     "start_time": "2025-09-13T19:04:26.696917Z"
    }
   },
   "cell_type": "code",
   "source": "df.loc[:, \"Mas Vnr Area\"] = df[\"Mas Vnr Area\"].fillna(0)",
   "id": "9cfbe265d6f87758",
   "outputs": [],
   "execution_count": 65
  },
  {
   "metadata": {
    "ExecuteTime": {
     "end_time": "2025-09-13T19:04:31.213582Z",
     "start_time": "2025-09-13T19:04:31.203977Z"
    }
   },
   "cell_type": "code",
   "source": "percent_nan = percent_missing(df)",
   "id": "1b6c706408135204",
   "outputs": [],
   "execution_count": 66
  },
  {
   "metadata": {
    "ExecuteTime": {
     "end_time": "2025-09-13T19:04:35.054659Z",
     "start_time": "2025-09-13T19:04:34.877093Z"
    }
   },
   "cell_type": "code",
   "source": [
    "sns.barplot(x=percent_nan.index,y=percent_nan)\n",
    "plt.xticks(rotation=90);\n",
    "plt.ylim(0, 1)"
   ],
   "id": "4e048667b0386096",
   "outputs": [
    {
     "data": {
      "text/plain": [
       "(0.0, 1.0)"
      ]
     },
     "execution_count": 67,
     "metadata": {},
     "output_type": "execute_result"
    },
    {
     "data": {
      "text/plain": [
       "<Figure size 640x480 with 1 Axes>"
      ],
      "image/png": "[encoded data removed]"
     },
     "metadata": {},
     "output_type": "display_data"
    }
   ],
   "execution_count": 67
  },
  {
   "metadata": {
    "ExecuteTime": {
     "end_time": "2025-09-13T19:04:42.489503Z",
     "start_time": "2025-09-13T19:04:42.194118Z"
    }
   },
   "cell_type": "code",
   "source": [
    "sns.barplot(x=percent_nan.index,y=percent_nan)\n",
    "plt.xticks(rotation=90);"
   ],
   "id": "6e78add2e3ba4444",
   "outputs": [
    {
     "data": {
      "text/plain": [
       "<Figure size 640x480 with 1 Axes>"
      ],
      "image/png": "[encoded data removed]"
     },
     "metadata": {},
     "output_type": "display_data"
    }
   ],
   "execution_count": 68
  },
  {
   "metadata": {
    "ExecuteTime": {
     "end_time": "2025-09-13T19:36:48.391060Z",
     "start_time": "2025-09-13T19:36:48.384683Z"
    }
   },
   "cell_type": "code",
   "source": [
    "gar_str_cols = ['Garage Type', 'Garage Finish', 'Garage Qual', 'Garage Cond']\n",
    "df.loc[:, gar_str_cols] = df.loc[:, gar_str_cols].fillna('None')"
   ],
   "id": "f3f0a37bd6a97452",
   "outputs": [],
   "execution_count": 70
  },
  {
   "metadata": {
    "ExecuteTime": {
     "end_time": "2025-09-13T19:37:29.564753Z",
     "start_time": "2025-09-13T19:37:29.560263Z"
    }
   },
   "cell_type": "code",
   "source": "df.loc[:, 'Garage Yr Blt'] = df.loc[:, 'Garage Yr Blt'].fillna(0)",
   "id": "3ff558437c8fa63f",
   "outputs": [],
   "execution_count": 72
  },
  {
   "metadata": {
    "ExecuteTime": {
     "end_time": "2025-09-13T19:37:42.628917Z",
     "start_time": "2025-09-13T19:37:42.619616Z"
    }
   },
   "cell_type": "code",
   "source": "percent_nan = percent_missing(df)",
   "id": "e12086751821ffd9",
   "outputs": [],
   "execution_count": 73
  },
  {
   "metadata": {
    "ExecuteTime": {
     "end_time": "2025-09-13T19:37:49.079300Z",
     "start_time": "2025-09-13T19:37:48.945510Z"
    }
   },
   "cell_type": "code",
   "source": [
    "sns.barplot(x=percent_nan.index,y=percent_nan)\n",
    "plt.xticks(rotation=90);"
   ],
   "id": "e41fb109e253b7e4",
   "outputs": [
    {
     "data": {
      "text/plain": [
       "<Figure size 640x480 with 1 Axes>"
      ],
      "image/png": "[encoded data removed]"
     },
     "metadata": {},
     "output_type": "display_data"
    }
   ],
   "execution_count": 74
  },
  {
   "metadata": {
    "ExecuteTime": {
     "end_time": "2025-09-13T19:38:00.999241Z",
     "start_time": "2025-09-13T19:38:00.987396Z"
    }
   },
   "cell_type": "code",
   "source": "df[['Lot Frontage', 'Fireplace Qu', 'Fence', 'Alley', 'Misc Feature','Pool QC']]",
   "id": "90cec60ea2692755",
   "outputs": [
    {
     "data": {
      "text/plain": [
       "           Lot Frontage Fireplace Qu  Fence Alley Misc Feature Pool QC\n",
       "PID                                                                   \n",
       "526301100         141.0           Gd    NaN   NaN          NaN     NaN\n",
       "526350040          80.0          NaN  MnPrv   NaN          NaN     NaN\n",
       "526351010          81.0          NaN    NaN   NaN         Gar2     NaN\n",
       "526353030          93.0           TA    NaN   NaN          NaN     NaN\n",
       "527105010          74.0           TA  MnPrv   NaN          NaN     NaN\n",
       "...                 ...          ...    ...   ...          ...     ...\n",
       "923275080          37.0          NaN  GdPrv   NaN          NaN     NaN\n",
       "923276100           NaN          NaN  MnPrv   NaN          NaN     NaN\n",
       "923400125          62.0          NaN  MnPrv   NaN         Shed     NaN\n",
       "924100070          77.0           TA    NaN   NaN          NaN     NaN\n",
       "924151050          74.0           TA    NaN   NaN          NaN     NaN\n",
       "\n",
       "[2925 rows x 6 columns]"
      ],
      "text/html": [
       "<div>\n",
       "<style scoped>\n",
       "    .dataframe tbody tr th:only-of-type {\n",
       "        vertical-align: middle;\n",
       "    }\n",
       "\n",
       "    .dataframe tbody tr th {\n",
       "        vertical-align: top;\n",
       "    }\n",
       "\n",
       "    .dataframe thead th {\n",
       "        text-align: right;\n",
       "    }\n",
       "</style>\n",
       "<table border=\"1\" class=\"dataframe\">\n",
       "  <thead>\n",
       "    <tr style=\"text-align: right;\">\n",
       "      <th></th>\n",
       "      <th>Lot Frontage</th>\n",
       "      <th>Fireplace Qu</th>\n",
       "      <th>Fence</th>\n",
       "      <th>Alley</th>\n",
       "      <th>Misc Feature</th>\n",
       "      <th>Pool QC</th>\n",
       "    </tr>\n",
       "    <tr>\n",
       "      <th>PID</th>\n",
       "      <th></th>\n",
       "      <th></th>\n",
       "      <th></th>\n",
       "      <th></th>\n",
       "      <th></th>\n",
       "      <th></th>\n",
       "    </tr>\n",
       "  </thead>\n",
       "  <tbody>\n",
       "    <tr>\n",
       "      <th>526301100</th>\n",
       "      <td>141.0</td>\n",
       "      <td>Gd</td>\n",
       "      <td>NaN</td>\n",
       "      <td>NaN</td>\n",
       "      <td>NaN</td>\n",
       "      <td>NaN</td>\n",
       "    </tr>\n",
       "    <tr>\n",
       "      <th>526350040</th>\n",
       "      <td>80.0</td>\n",
       "      <td>NaN</td>\n",
       "      <td>MnPrv</td>\n",
       "      <td>NaN</td>\n",
       "      <td>NaN</td>\n",
       "      <td>NaN</td>\n",
       "    </tr>\n",
       "    <tr>\n",
       "      <th>526351010</th>\n",
       "      <td>81.0</td>\n",
       "      <td>NaN</td>\n",
       "      <td>NaN</td>\n",
       "      <td>NaN</td>\n",
       "      <td>Gar2</td>\n",
       "      <td>NaN</td>\n",
       "    </tr>\n",
       "    <tr>\n",
       "      <th>526353030</th>\n",
       "      <td>93.0</td>\n",
       "      <td>TA</td>\n",
       "      <td>NaN</td>\n",
       "      <td>NaN</td>\n",
       "      <td>NaN</td>\n",
       "      <td>NaN</td>\n",
       "    </tr>\n",
       "    <tr>\n",
       "      <th>527105010</th>\n",
       "      <td>74.0</td>\n",
       "      <td>TA</td>\n",
       "      <td>MnPrv</td>\n",
       "      <td>NaN</td>\n",
       "      <td>NaN</td>\n",
       "      <td>NaN</td>\n",
       "    </tr>\n",
       "    <tr>\n",
       "      <th>...</th>\n",
       "      <td>...</td>\n",
       "      <td>...</td>\n",
       "      <td>...</td>\n",
       "      <td>...</td>\n",
       "      <td>...</td>\n",
       "      <td>...</td>\n",
       "    </tr>\n",
       "    <tr>\n",
       "      <th>923275080</th>\n",
       "      <td>37.0</td>\n",
       "      <td>NaN</td>\n",
       "      <td>GdPrv</td>\n",
       "      <td>NaN</td>\n",
       "      <td>NaN</td>\n",
       "      <td>NaN</td>\n",
       "    </tr>\n",
       "    <tr>\n",
       "      <th>923276100</th>\n",
       "      <td>NaN</td>\n",
       "      <td>NaN</td>\n",
       "      <td>MnPrv</td>\n",
       "      <td>NaN</td>\n",
       "      <td>NaN</td>\n",
       "      <td>NaN</td>\n",
       "    </tr>\n",
       "    <tr>\n",
       "      <th>923400125</th>\n",
       "      <td>62.0</td>\n",
       "      <td>NaN</td>\n",
       "      <td>MnPrv</td>\n",
       "      <td>NaN</td>\n",
       "      <td>Shed</td>\n",
       "      <td>NaN</td>\n",
       "    </tr>\n",
       "    <tr>\n",
       "      <th>924100070</th>\n",
       "      <td>77.0</td>\n",
       "      <td>TA</td>\n",
       "      <td>NaN</td>\n",
       "      <td>NaN</td>\n",
       "      <td>NaN</td>\n",
       "      <td>NaN</td>\n",
       "    </tr>\n",
       "    <tr>\n",
       "      <th>924151050</th>\n",
       "      <td>74.0</td>\n",
       "      <td>TA</td>\n",
       "      <td>NaN</td>\n",
       "      <td>NaN</td>\n",
       "      <td>NaN</td>\n",
       "      <td>NaN</td>\n",
       "    </tr>\n",
       "  </tbody>\n",
       "</table>\n",
       "<p>2925 rows × 6 columns</p>\n",
       "</div>"
      ]
     },
     "execution_count": 75,
     "metadata": {},
     "output_type": "execute_result"
    }
   ],
   "execution_count": 75
  },
  {
   "metadata": {
    "ExecuteTime": {
     "end_time": "2025-09-13T19:38:13.118768Z",
     "start_time": "2025-09-13T19:38:13.113123Z"
    }
   },
   "cell_type": "code",
   "source": "df = df.drop(['Pool QC','Misc Feature','Alley','Fence'],axis=1)",
   "id": "19da1d10bdd8034d",
   "outputs": [],
   "execution_count": 76
  },
  {
   "metadata": {
    "ExecuteTime": {
     "end_time": "2025-09-13T19:38:26.254960Z",
     "start_time": "2025-09-13T19:38:26.245901Z"
    }
   },
   "cell_type": "code",
   "source": "percent_nan = percent_missing(df)",
   "id": "79abe5f8c4cd5b1b",
   "outputs": [],
   "execution_count": 77
  },
  {
   "metadata": {
    "ExecuteTime": {
     "end_time": "2025-09-13T19:38:27.234629Z",
     "start_time": "2025-09-13T19:38:27.133035Z"
    }
   },
   "cell_type": "code",
   "source": [
    "sns.barplot(x=percent_nan.index,y=percent_nan)\n",
    "plt.xticks(rotation=90);"
   ],
   "id": "583ee61de5559ce7",
   "outputs": [
    {
     "data": {
      "text/plain": [
       "<Figure size 640x480 with 1 Axes>"
      ],
      "image/png": "[encoded data removed]"
     },
     "metadata": {},
     "output_type": "display_data"
    }
   ],
   "execution_count": 78
  },
  {
   "metadata": {
    "ExecuteTime": {
     "end_time": "2025-09-13T19:40:05.629803Z",
     "start_time": "2025-09-13T19:40:05.625207Z"
    }
   },
   "cell_type": "code",
   "source": "df.loc[:, 'Fireplace Qu'] = df.loc[:, 'Fireplace Qu'].fillna(\"None\")",
   "id": "bd27c1c486507733",
   "outputs": [],
   "execution_count": 79
  },
  {
   "metadata": {
    "ExecuteTime": {
     "end_time": "2025-09-13T19:44:08.901552Z",
     "start_time": "2025-09-13T19:44:08.448572Z"
    }
   },
   "cell_type": "code",
   "source": [
    "plt.figure(figsize=(8,12))\n",
    "sns.boxplot(x='Lot Frontage',y='Neighborhood',data=df,orient='h')"
   ],
   "id": "c9b8a59a08ba1b5a",
   "outputs": [
    {
     "data": {
      "text/plain": [
       "<Axes: xlabel='Lot Frontage', ylabel='Neighborhood'>"
      ]
     },
     "execution_count": 80,
     "metadata": {},
     "output_type": "execute_result"
    },
    {
     "data": {
      "text/plain": [
       "<Figure size 800x1200 with 1 Axes>"
      ],
      "image/png": "[encoded data removed]"
     },
     "metadata": {},
     "output_type": "display_data"
    }
   ],
   "execution_count": 80
  },
  {
   "metadata": {
    "ExecuteTime": {
     "end_time": "2025-09-13T19:44:49.337223Z",
     "start_time": "2025-09-13T19:44:49.332006Z"
    }
   },
   "cell_type": "code",
   "source": "df.head()[\"Lot Frontage\"]",
   "id": "9cc00a68eb674437",
   "outputs": [
    {
     "data": {
      "text/plain": [
       "PID\n",
       "526301100    141.0\n",
       "526350040     80.0\n",
       "526351010     81.0\n",
       "526353030     93.0\n",
       "527105010     74.0\n",
       "Name: Lot Frontage, dtype: float64"
      ]
     },
     "execution_count": 82,
     "metadata": {},
     "output_type": "execute_result"
    }
   ],
   "execution_count": 82
  },
  {
   "metadata": {
    "ExecuteTime": {
     "end_time": "2025-09-13T19:45:03.654181Z",
     "start_time": "2025-09-13T19:45:03.647600Z"
    }
   },
   "cell_type": "code",
   "source": "df.groupby('Neighborhood')['Lot Frontage'].mean()",
   "id": "396eab9c757dd4b0",
   "outputs": [
    {
     "data": {
      "text/plain": [
       "Neighborhood\n",
       "Blmngtn    46.900000\n",
       "Blueste    27.300000\n",
       "BrDale     21.500000\n",
       "BrkSide    55.789474\n",
       "ClearCr    88.150000\n",
       "CollgCr    71.336364\n",
       "Crawfor    69.951807\n",
       "Edwards    64.794286\n",
       "Gilbert    74.207207\n",
       "Greens     41.000000\n",
       "GrnHill          NaN\n",
       "IDOTRR     62.383721\n",
       "Landmrk          NaN\n",
       "MeadowV    25.606061\n",
       "Mitchel    75.144444\n",
       "NAmes      75.210667\n",
       "NPkVill    28.142857\n",
       "NWAmes     81.517647\n",
       "NoRidge    91.629630\n",
       "NridgHt    84.184049\n",
       "OldTown    61.777293\n",
       "SWISU      59.068182\n",
       "Sawyer     74.551020\n",
       "SawyerW    70.669811\n",
       "Somerst    64.549383\n",
       "StoneBr    62.173913\n",
       "Timber     81.303571\n",
       "Veenker    72.000000\n",
       "Name: Lot Frontage, dtype: float64"
      ]
     },
     "execution_count": 85,
     "metadata": {},
     "output_type": "execute_result"
    }
   ],
   "execution_count": 85
  },
  {
   "metadata": {
    "ExecuteTime": {
     "end_time": "2025-09-13T19:50:42.937521Z",
     "start_time": "2025-09-13T19:50:42.925628Z"
    }
   },
   "cell_type": "code",
   "source": "df.groupby('Neighborhood')['Lot Frontage'].transform(lambda val: val.fillna(val.mean()))",
   "id": "a1442d13715a3504",
   "outputs": [
    {
     "data": {
      "text/plain": [
       "PID\n",
       "526301100    141.000000\n",
       "526350040     80.000000\n",
       "526351010     81.000000\n",
       "526353030     93.000000\n",
       "527105010     74.000000\n",
       "                ...    \n",
       "923275080     37.000000\n",
       "923276100     75.144444\n",
       "923400125     62.000000\n",
       "924100070     77.000000\n",
       "924151050     74.000000\n",
       "Name: Lot Frontage, Length: 2925, dtype: float64"
      ]
     },
     "execution_count": 88,
     "metadata": {},
     "output_type": "execute_result"
    }
   ],
   "execution_count": 88
  },
  {
   "metadata": {
    "ExecuteTime": {
     "end_time": "2025-09-13T19:50:52.652053Z",
     "start_time": "2025-09-13T19:50:52.646112Z"
    }
   },
   "cell_type": "code",
   "source": "df.groupby('Neighborhood')['Lot Frontage'].transform(\"mean\")",
   "id": "d08aa2d53e470a5c",
   "outputs": [
    {
     "data": {
      "text/plain": [
       "PID\n",
       "526301100    75.210667\n",
       "526350040    75.210667\n",
       "526351010    75.210667\n",
       "526353030    75.210667\n",
       "527105010    74.207207\n",
       "               ...    \n",
       "923275080    75.144444\n",
       "923276100    75.144444\n",
       "923400125    75.144444\n",
       "924100070    75.144444\n",
       "924151050    75.144444\n",
       "Name: Lot Frontage, Length: 2925, dtype: float64"
      ]
     },
     "execution_count": 90,
     "metadata": {},
     "output_type": "execute_result"
    }
   ],
   "execution_count": 90
  },
  {
   "metadata": {
    "ExecuteTime": {
     "end_time": "2025-09-13T19:59:35.456011Z",
     "start_time": "2025-09-13T19:59:35.423240Z"
    }
   },
   "cell_type": "code",
   "source": "df.groupby('Neighborhood')['Lot Frontage'].transform(lambda val: print(val))",
   "id": "2d0008a443d6a35c",
   "outputs": [
    {
     "name": "stdout",
     "output_type": "stream",
     "text": [
      "PID\n",
      "528228285    43.0\n",
      "528228440    43.0\n",
      "528228290    53.0\n",
      "528228295    51.0\n",
      "528228435    43.0\n",
      "528228450    43.0\n",
      "528228455    43.0\n",
      "528228460    43.0\n",
      "528228345     NaN\n",
      "528228405     NaN\n",
      "528228445    43.0\n",
      "528228465    43.0\n",
      "528228540    53.0\n",
      "528228270    53.0\n",
      "528228275    53.0\n",
      "528228375     NaN\n",
      "528228555    53.0\n",
      "528228280    43.0\n",
      "528228325     NaN\n",
      "528228340     NaN\n",
      "528228360     NaN\n",
      "528228415     NaN\n",
      "528228430     NaN\n",
      "528228545    43.0\n",
      "528228550    43.0\n",
      "528228565    43.0\n",
      "528228575    53.0\n",
      "528228580    53.0\n",
      "Name: Blmngtn, dtype: float64\n",
      "PID\n",
      "909455030    35.0\n",
      "909455040    35.0\n",
      "909451040    24.0\n",
      "909451100    24.0\n",
      "909451140    24.0\n",
      "909451180    24.0\n",
      "909451020    24.0\n",
      "909451150    24.0\n",
      "909451130    24.0\n",
      "909455060    35.0\n",
      "Name: Blueste, dtype: float64\n",
      "PID\n",
      "527451180    21.0\n",
      "527451330    21.0\n",
      "527451410    21.0\n",
      "527450280    21.0\n",
      "527451110    24.0\n",
      "527451320    21.0\n",
      "527451540    21.0\n",
      "527451640    21.0\n",
      "527451650    21.0\n",
      "527450110    21.0\n",
      "527450250    21.0\n",
      "527450520    21.0\n",
      "527451060    21.0\n",
      "527451290    21.0\n",
      "527451400    21.0\n",
      "527451550    21.0\n",
      "527450030    21.0\n",
      "527450150    21.0\n",
      "527450220    21.0\n",
      "527451020    24.0\n",
      "527451170    24.0\n",
      "527450010    24.0\n",
      "527450080    24.0\n",
      "527450210    21.0\n",
      "527450460    21.0\n",
      "527451200    21.0\n",
      "527451380    21.0\n",
      "527451450    21.0\n",
      "527451460    21.0\n",
      "527451520    21.0\n",
      "Name: BrDale, dtype: float64\n",
      "PID\n",
      "534450180    50.0\n",
      "534451150    55.0\n",
      "903204040    53.0\n",
      "903206120     NaN\n",
      "903225150    50.0\n",
      "             ... \n",
      "903233220    51.0\n",
      "903235020    50.0\n",
      "903236200    58.0\n",
      "903400030    50.0\n",
      "903425340    60.0\n",
      "Name: BrkSide, Length: 108, dtype: float64\n",
      "PID\n",
      "904100140      NaN\n",
      "904101110    100.0\n",
      "904300150     72.0\n",
      "905109130     80.0\n",
      "905109170      NaN\n",
      "905325030      NaN\n",
      "905352140      NaN\n",
      "906477110     80.0\n",
      "905225090      NaN\n",
      "905229040      NaN\n",
      "905325020     65.0\n",
      "905401100      NaN\n",
      "906426210      NaN\n",
      "906475070      NaN\n",
      "904101170     80.0\n",
      "905202230      NaN\n",
      "905226110      NaN\n",
      "905351089      NaN\n",
      "905352030     83.0\n",
      "905352070     82.0\n",
      "905401045     73.0\n",
      "905401060      NaN\n",
      "905425125     75.0\n",
      "906475100      NaN\n",
      "906476030     79.0\n",
      "904101070    138.0\n",
      "905301050      NaN\n",
      "905352010      NaN\n",
      "905352180     97.0\n",
      "905401020    102.0\n",
      "906426060      NaN\n",
      "906426195      NaN\n",
      "906475110      NaN\n",
      "906475170    155.0\n",
      "904101040     92.0\n",
      "905202190      NaN\n",
      "905202210     87.0\n",
      "905225080     81.0\n",
      "905351045      NaN\n",
      "905351150      NaN\n",
      "906426090      NaN\n",
      "906475050      NaN\n",
      "906475200     62.0\n",
      "906476140     80.0\n",
      "Name: ClearCr, dtype: float64\n",
      "PID\n",
      "906378100    64.0\n",
      "906380190    64.0\n",
      "906385010    94.0\n",
      "906385020    64.0\n",
      "907125090    82.0\n",
      "             ... \n",
      "907412010    89.0\n",
      "907414040    65.0\n",
      "907418020    68.0\n",
      "907420070    65.0\n",
      "907420090    65.0\n",
      "Name: CollgCr, Length: 267, dtype: float64\n",
      "PID\n",
      "909281080     78.0\n",
      "909426080     78.0\n",
      "909427230     66.0\n",
      "909428280    100.0\n",
      "909452114     85.0\n",
      "             ...  \n",
      "909426060     78.0\n",
      "909428110     90.0\n",
      "909475020      NaN\n",
      "911370430     41.0\n",
      "911370530     44.0\n",
      "Name: Crawfor, Length: 103, dtype: float64\n",
      "PID\n",
      "905378040    124.0\n",
      "905426060     85.0\n",
      "905426200     65.0\n",
      "905451320     68.0\n",
      "905452110     50.0\n",
      "             ...  \n",
      "908275290     60.0\n",
      "909101050     45.0\n",
      "909101080     45.0\n",
      "909101330     60.0\n",
      "909103020     76.0\n",
      "Name: Edwards, Length: 191, dtype: float64\n",
      "PID\n",
      "527105010    74.0\n",
      "527105030    78.0\n",
      "527162130    60.0\n",
      "527163010    75.0\n",
      "527165230     NaN\n",
      "             ... \n",
      "528275080     NaN\n",
      "528280100     NaN\n",
      "528290140    58.0\n",
      "528292080     NaN\n",
      "528294070    66.0\n",
      "Name: Gilbert, Length: 165, dtype: float64\n",
      "PID\n",
      "533253060    30.0\n",
      "533253210    40.0\n",
      "533253070    61.0\n",
      "533253180    40.0\n",
      "533253030     NaN\n",
      "533253050    36.0\n",
      "533253090    40.0\n",
      "533253160    40.0\n",
      "Name: Greens, dtype: float64\n",
      "PID\n",
      "916253320   NaN\n",
      "916252170   NaN\n",
      "Name: GrnHill, dtype: float64\n",
      "PID\n",
      "903450110    110.0\n",
      "903454060     70.0\n",
      "910202060     40.0\n",
      "910203250     58.0\n",
      "910205120     50.0\n",
      "             ...  \n",
      "911175360     60.0\n",
      "911175410     69.0\n",
      "911175430     50.0\n",
      "911175440     50.0\n",
      "911225110     60.0\n",
      "Name: IDOTRR, Length: 92, dtype: float64\n",
      "PID\n",
      "907230240   NaN\n",
      "Name: Landmrk, dtype: float64\n",
      "PID\n",
      "923225300     NaN\n",
      "923225390    31.0\n",
      "923225440    36.0\n",
      "923226250    21.0\n",
      "923226320    21.0\n",
      "923228270    21.0\n",
      "923228370    21.0\n",
      "923225360    21.0\n",
      "923226270    21.0\n",
      "923228110    21.0\n",
      "923228150    21.0\n",
      "923228230    21.0\n",
      "923225080     NaN\n",
      "923225150     NaN\n",
      "923225200    41.0\n",
      "923225310    21.0\n",
      "923225370    21.0\n",
      "923228080    21.0\n",
      "923228420    21.0\n",
      "923225040    44.0\n",
      "923225050    44.0\n",
      "923226300    21.0\n",
      "923228200     NaN\n",
      "923228220    21.0\n",
      "923228250    21.0\n",
      "923228290    21.0\n",
      "923228390    21.0\n",
      "923225190    41.0\n",
      "923225240    41.0\n",
      "923225260    42.0\n",
      "923226180    21.0\n",
      "923226290    21.0\n",
      "923228130    21.0\n",
      "923228180    21.0\n",
      "923228210    21.0\n",
      "923228260    21.0\n",
      "923228310    21.0\n",
      "Name: MeadowV, dtype: float64\n",
      "PID\n",
      "914467040     85.0\n",
      "914475090     74.0\n",
      "914476520    129.0\n",
      "914478045      NaN\n",
      "914478110      NaN\n",
      "             ...  \n",
      "923275080     37.0\n",
      "923276100      NaN\n",
      "923400125     62.0\n",
      "924100070     77.0\n",
      "924151050     74.0\n",
      "Name: Mitchel, Length: 114, dtype: float64\n",
      "PID\n",
      "526301100    141.0\n",
      "526350040     80.0\n",
      "526351010     81.0\n",
      "526353030     93.0\n",
      "527402200      NaN\n",
      "             ...  \n",
      "535477060     69.0\n",
      "535478010     69.0\n",
      "535478070     74.0\n",
      "535478090     70.0\n",
      "535478110     70.0\n",
      "Name: NAmes, Length: 443, dtype: float64\n",
      "PID\n",
      "527452190    53.0\n",
      "527453130    24.0\n",
      "527453150    24.0\n",
      "527454200    24.0\n",
      "527452060     NaN\n",
      "527453050    24.0\n",
      "527453060    24.0\n",
      "527453140    24.0\n",
      "527454050    24.0\n",
      "527454130    24.0\n",
      "527455050    24.0\n",
      "527455060    24.0\n",
      "527455080    24.0\n",
      "527455090    24.0\n",
      "527452150    53.0\n",
      "527453160    24.0\n",
      "527454120    24.0\n",
      "527452100     NaN\n",
      "527453010    24.0\n",
      "527455030    24.0\n",
      "527452070    53.0\n",
      "527453070    24.0\n",
      "527455100    24.0\n",
      "Name: NPkVill, dtype: float64\n",
      "PID\n",
      "527302110     85.0\n",
      "527358140    105.0\n",
      "527358200     85.0\n",
      "534129040      NaN\n",
      "534151175     80.0\n",
      "             ...  \n",
      "534128210      NaN\n",
      "534129230     80.0\n",
      "534175100     78.0\n",
      "534176250     80.0\n",
      "534250300      NaN\n",
      "Name: NWAmes, Length: 131, dtype: float64\n",
      "PID\n",
      "528328100    108.0\n",
      "528344070     60.0\n",
      "528358010     59.0\n",
      "528363130     98.0\n",
      "528382020     92.0\n",
      "             ...  \n",
      "533110130    121.0\n",
      "533125120    105.0\n",
      "533127080      NaN\n",
      "533128030      NaN\n",
      "533128090     89.0\n",
      "Name: NoRidge, Length: 71, dtype: float64\n",
      "PID\n",
      "528108120    102.0\n",
      "528112020     98.0\n",
      "528120060     83.0\n",
      "528120090     94.0\n",
      "528120100     95.0\n",
      "             ...  \n",
      "528181030     48.0\n",
      "528181040     40.0\n",
      "528186100     61.0\n",
      "528186110     48.0\n",
      "528188040      NaN\n",
      "Name: NridgHt, Length: 166, dtype: float64\n",
      "PID\n",
      "535377090     64.0\n",
      "902102100     60.0\n",
      "902104060     55.0\n",
      "902106130     56.0\n",
      "902106140     56.0\n",
      "             ...  \n",
      "903229040     65.0\n",
      "903234030     50.0\n",
      "903425190     90.0\n",
      "903430090     59.0\n",
      "903430130    153.0\n",
      "Name: OldTown, Length: 239, dtype: float64\n",
      "PID\n",
      "904302260     60.0\n",
      "904350045     65.0\n",
      "904351040      NaN\n",
      "904352190     60.0\n",
      "909100080     67.0\n",
      "909100110     66.0\n",
      "909176140     50.0\n",
      "909176150      NaN\n",
      "909177100     60.0\n",
      "909250030     51.0\n",
      "909250060     50.0\n",
      "909129090     70.0\n",
      "909129100     55.0\n",
      "909175080     60.0\n",
      "909178160     60.0\n",
      "909179020    102.0\n",
      "909250080     43.0\n",
      "909250220     65.0\n",
      "909251170     51.0\n",
      "909252020     60.0\n",
      "909253180     52.0\n",
      "909101180     55.0\n",
      "909131170      NaN\n",
      "909175050     60.0\n",
      "909175100     60.0\n",
      "909177120     60.0\n",
      "909201110     55.0\n",
      "909250040     51.0\n",
      "909250230     64.0\n",
      "909253190     52.0\n",
      "909256060     51.0\n",
      "904302010     59.0\n",
      "905475270     60.0\n",
      "909176080     60.0\n",
      "909176170     60.0\n",
      "909252010     60.0\n",
      "904302020     50.0\n",
      "904302030     50.0\n",
      "909101190     60.0\n",
      "909131125      NaN\n",
      "909175030     60.0\n",
      "909176180     60.0\n",
      "909201180     58.0\n",
      "909250070     43.0\n",
      "909250200     69.0\n",
      "909250210     60.0\n",
      "909256010     84.0\n",
      "909256020     51.0\n",
      "Name: SWISU, dtype: float64\n",
      "PID\n",
      "532351140     68.0\n",
      "532354090     88.0\n",
      "532376160     65.0\n",
      "532377060      NaN\n",
      "532377100     75.0\n",
      "             ...  \n",
      "905200380      NaN\n",
      "905200490      NaN\n",
      "905201090      NaN\n",
      "905300010     72.0\n",
      "905300080    100.0\n",
      "Name: Sawyer, Length: 151, dtype: float64\n",
      "PID\n",
      "531367050    76.0\n",
      "531369060    70.0\n",
      "531380080     NaN\n",
      "531451110    50.0\n",
      "531451280    70.0\n",
      "             ... \n",
      "906202040     NaN\n",
      "906204180    88.0\n",
      "906223180    80.0\n",
      "906225180    73.0\n",
      "906420020    80.0\n",
      "Name: SawyerW, Length: 125, dtype: float64\n",
      "PID\n",
      "527368020      NaN\n",
      "528445060     73.0\n",
      "528456160     92.0\n",
      "528458070     72.0\n",
      "528458110     75.0\n",
      "             ...  \n",
      "533223010     35.0\n",
      "533223080      NaN\n",
      "533223110      NaN\n",
      "533241010    114.0\n",
      "533242030     60.0\n",
      "Name: Somerst, Length: 182, dtype: float64\n",
      "PID\n",
      "527127150     41.0\n",
      "527145080     43.0\n",
      "527146030     39.0\n",
      "527182190      NaN\n",
      "527216070     47.0\n",
      "527258010     88.0\n",
      "527127100     28.0\n",
      "527131030     40.0\n",
      "527132090     61.0\n",
      "527146010     57.0\n",
      "527182110      NaN\n",
      "527214050     63.0\n",
      "527254020     80.0\n",
      "527258020    124.0\n",
      "527127140     41.0\n",
      "527131110     45.0\n",
      "527140090     41.0\n",
      "527145090     39.0\n",
      "527183030     40.0\n",
      "527183060     65.0\n",
      "527208010    101.0\n",
      "527212050     77.0\n",
      "527214030     53.0\n",
      "527252080     60.0\n",
      "527126030     41.0\n",
      "527182040      NaN\n",
      "527182170      NaN\n",
      "527184020     38.0\n",
      "527184110     35.0\n",
      "527210060     86.0\n",
      "527212060     98.0\n",
      "527216080     52.0\n",
      "527252050     61.0\n",
      "527252070     60.0\n",
      "527256030     85.0\n",
      "527256040     81.0\n",
      "527146135     68.0\n",
      "527182020     30.0\n",
      "527190050     44.0\n",
      "527190220      NaN\n",
      "527210030     59.0\n",
      "527210040     60.0\n",
      "527210050     63.0\n",
      "527212030     85.0\n",
      "527212040     82.0\n",
      "527214060     82.0\n",
      "527216010     92.0\n",
      "527216050     66.0\n",
      "527252090     60.0\n",
      "527254070     69.0\n",
      "527256120     90.0\n",
      "Name: StoneBr, dtype: float64\n",
      "PID\n",
      "916125360     NaN\n",
      "916386010    88.0\n",
      "916386020    73.0\n",
      "916386060    73.0\n",
      "916386090    92.0\n",
      "             ... \n",
      "916460070     NaN\n",
      "916475100    85.0\n",
      "916477010    95.0\n",
      "921205030    88.0\n",
      "921205050    88.0\n",
      "Name: Timber, Length: 71, dtype: float64\n",
      "PID\n",
      "532478020      NaN\n",
      "533252040      NaN\n",
      "533254050    110.0\n",
      "533254110     80.0\n",
      "532477030     95.0\n",
      "533250050     38.0\n",
      "533250110     22.0\n",
      "533250160     32.0\n",
      "533251120      NaN\n",
      "533350090      NaN\n",
      "533350120    103.0\n",
      "532476080      NaN\n",
      "532477040      NaN\n",
      "533250190     50.0\n",
      "533251110     80.0\n",
      "533251130      NaN\n",
      "533252130     90.0\n",
      "533254100     80.0\n",
      "533254130     80.0\n",
      "533350020     94.0\n",
      "532476050    100.0\n",
      "533250130     30.0\n",
      "533252020      NaN\n",
      "533350050     68.0\n",
      "Name: Veenker, dtype: float64\n"
     ]
    },
    {
     "data": {
      "text/plain": [
       "PID\n",
       "526301100   NaN\n",
       "526350040   NaN\n",
       "526351010   NaN\n",
       "526353030   NaN\n",
       "527105010   NaN\n",
       "             ..\n",
       "923275080   NaN\n",
       "923276100   NaN\n",
       "923400125   NaN\n",
       "924100070   NaN\n",
       "924151050   NaN\n",
       "Name: Lot Frontage, Length: 2925, dtype: float64"
      ]
     },
     "execution_count": 93,
     "metadata": {},
     "output_type": "execute_result"
    }
   ],
   "execution_count": 93
  },
  {
   "metadata": {
    "ExecuteTime": {
     "end_time": "2025-09-13T20:00:59.256985Z",
     "start_time": "2025-09-13T20:00:59.247503Z"
    }
   },
   "cell_type": "code",
   "source": "df['Lot Frontage'] = df.groupby('Neighborhood')['Lot Frontage'].transform(lambda val: val.fillna(val.mean()))",
   "id": "f71d2cc898d3d408",
   "outputs": [],
   "execution_count": 94
  },
  {
   "metadata": {
    "ExecuteTime": {
     "end_time": "2025-09-13T20:01:05.690329Z",
     "start_time": "2025-09-13T20:01:05.681482Z"
    }
   },
   "cell_type": "code",
   "source": "percent_nan = percent_missing(df)",
   "id": "6123aa19d8e7c67f",
   "outputs": [],
   "execution_count": 95
  },
  {
   "metadata": {
    "ExecuteTime": {
     "end_time": "2025-09-13T20:01:10.929929Z",
     "start_time": "2025-09-13T20:01:10.846849Z"
    }
   },
   "cell_type": "code",
   "source": [
    "sns.barplot(x=percent_nan.index,y=percent_nan)\n",
    "plt.xticks(rotation=90);"
   ],
   "id": "b874d58a5571bd86",
   "outputs": [
    {
     "data": {
      "text/plain": [
       "<Figure size 640x480 with 1 Axes>"
      ],
      "image/png": "[encoded data removed]"
     },
     "metadata": {},
     "output_type": "display_data"
    }
   ],
   "execution_count": 96
  },
  {
   "metadata": {
    "ExecuteTime": {
     "end_time": "2025-09-13T20:02:08.215223Z",
     "start_time": "2025-09-13T20:02:08.210702Z"
    }
   },
   "cell_type": "code",
   "source": "df[\"Lot Frontage\"].isna().sum()",
   "id": "a420eca3cadaac7a",
   "outputs": [
    {
     "data": {
      "text/plain": [
       "np.int64(3)"
      ]
     },
     "execution_count": 97,
     "metadata": {},
     "output_type": "execute_result"
    }
   ],
   "execution_count": 97
  },
  {
   "metadata": {
    "ExecuteTime": {
     "end_time": "2025-09-13T20:03:00.988384Z",
     "start_time": "2025-09-13T20:03:00.984637Z"
    }
   },
   "cell_type": "code",
   "source": "df[\"Lot Frontage\"] = df[\"Lot Frontage\"].fillna(0)",
   "id": "5b3e766fa3999a10",
   "outputs": [],
   "execution_count": 98
  },
  {
   "metadata": {
    "ExecuteTime": {
     "end_time": "2025-09-13T20:03:05.645747Z",
     "start_time": "2025-09-13T20:03:05.637027Z"
    }
   },
   "cell_type": "code",
   "source": "percent_nan = percent_missing(df)",
   "id": "c40b5cc9e3016ef3",
   "outputs": [],
   "execution_count": 99
  },
  {
   "metadata": {
    "ExecuteTime": {
     "end_time": "2025-09-13T20:03:08.892233Z",
     "start_time": "2025-09-13T20:03:08.884975Z"
    }
   },
   "cell_type": "code",
   "source": "percent_nan",
   "id": "7a7c0310b995f747",
   "outputs": [
    {
     "data": {
      "text/plain": [
       "Series([], dtype: float64)"
      ]
     },
     "execution_count": 100,
     "metadata": {},
     "output_type": "execute_result"
    }
   ],
   "execution_count": 100
  },
  {
   "metadata": {},
   "cell_type": "code",
   "outputs": [],
   "execution_count": null,
   "source": "",
   "id": "eb88459008325f1f"
  }
 ],
 "metadata": {
  "kernelspec": {
   "display_name": "Python 3",
   "language": "python",
   "name": "python3"
  },
  "language_info": {
   "codemirror_mode": {
    "name": "ipython",
    "version": 2
   },
   "file_extension": ".py",
   "mimetype": "text/x-python",
   "name": "python",
   "nbconvert_exporter": "python",
   "pygments_lexer": "ipython2",
   "version": "2.7.6"
  }
 },
 "nbformat": 4,
 "nbformat_minor": 5
}
